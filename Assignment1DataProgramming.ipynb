{
 "cells": [
  {
   "cell_type": "markdown",
   "id": "5ba73e12",
   "metadata": {},
   "source": [
    "Question 1: Datatype "
   ]
  },
  {
   "cell_type": "code",
   "execution_count": null,
   "id": "81022f1a",
   "metadata": {},
   "outputs": [],
   "source": [
    "print(type(5))\n",
    "print(type(5.0))\n",
    "print(type(5>1))\n",
    "print(type('5'))\n",
    "print(type(5*2))\n",
    "print(type('5'*2))\n",
    "print(type('5'*'2'))\n",
    "print(type(5/2))\n",
    "print(type(5%2))\n",
    "print(type({5,2,1}))\n",
    "print(type(5==3))\n",
    "print(type(22/7))\n"
   ]
  },
  {
   "cell_type": "markdown",
   "id": "f66b1c44",
   "metadata": {},
   "source": [
    "Question 2.a: Letters count"
   ]
  },
  {
   "cell_type": "code",
   "execution_count": null,
   "id": "eb88918c",
   "metadata": {},
   "outputs": [],
   "source": [
    "using System;\n",
    "\t\t\t\t\t\n",
    "public class Program\n",
    "{\n",
    "\tpublic static void Main()\n",
    "\t{\n",
    "\t\tstring s=\"Supercalifragilisticexpialidocious\";\n",
    "\t\tint count=0;\n",
    "\t\tfor (int i=0;i<s.Length;i++)\n",
    "\t\t{\n",
    "\t\t\tcount++;\n",
    "\t\t}\n",
    "\t\t\tConsole.WriteLine(count);\n",
    "\t}\n",
    "}\n"
   ]
  },
  {
   "cell_type": "markdown",
   "id": "3ffafb7e",
   "metadata": {},
   "source": [
    "Question 2.b: Substring"
   ]
  },
  {
   "cell_type": "code",
   "execution_count": null,
   "id": "4db8ef18",
   "metadata": {},
   "outputs": [],
   "source": [
    "using System;\n",
    "\t\t\t\t\t\n",
    "public class Program\n",
    "{\n",
    "\tpublic static void Main()\n",
    "\t{\n",
    "\t\tstring s=\"Supercalifragilisticexpialidocious\";\n",
    "\t\tstring str=\"ice\";\n",
    "\t\tBoolean b=s.Contains(str);\n",
    "\t\tConsole.WriteLine(b);\n",
    "\t}\n",
    "}"
   ]
  },
  {
   "cell_type": "markdown",
   "id": "be722050",
   "metadata": {},
   "source": [
    "Question 2.c: Longest word"
   ]
  },
  {
   "cell_type": "code",
   "execution_count": null,
   "id": "b0036847",
   "metadata": {},
   "outputs": [],
   "source": [
    "using System;\n",
    "\t\t\t\t\t\n",
    "public class Program\n",
    "{\n",
    "\tpublic static void Main()\n",
    "\t{\n",
    "\t\tstring s=\"Supercalifragilisticexpialidocious Honorificabilitudinitatibus Bababadalgharaghtakamminarronnkonn\";\n",
    "\t\tchar[] ch={' '};\n",
    "\t\tstring[] r=s.Split(ch);\n",
    "\t\tstring word=\"\";\n",
    "\t\tint c=0;\n",
    "\t\tforeach(string str in r)\n",
    "\t\t{\n",
    "\t\t\tif(str.Length>c)\n",
    "\t\t\t{\n",
    "\t\t\t \tword=str;\n",
    "\t\t\t\tc=str.Length;\n",
    "\t\t\t}\n",
    "\t\t}\n",
    "\t\tConsole.WriteLine(word);\n",
    "        Console.WriteLine(c);\n",
    "\t}\n",
    "}"
   ]
  },
  {
   "cell_type": "markdown",
   "id": "203c2e3d",
   "metadata": {},
   "source": [
    "Question 2.d: Dictionary"
   ]
  },
  {
   "cell_type": "code",
   "execution_count": null,
   "id": "1123e292",
   "metadata": {},
   "outputs": [],
   "source": [
    "using System;\n",
    "using System.Collections.Generic;\n",
    "\t\t\t\t\t\n",
    "public class Program\n",
    "{\n",
    "\tpublic static void Main()\n",
    "\t{\n",
    "\t\tvar names = new SortedSet<string>();\n",
    "          names.Add(\"Berlioz\");\n",
    "          names.Add(\"Borodin\");\n",
    "          names.Add(\"Brian\");\n",
    "          names.Add(\"Bartok\");\n",
    "          names.Add(\"Bellini\");\n",
    "\t\t  names.Add(\"Buxtehude\");\n",
    "\t\t  names.Add(\"Bernstein\");\n",
    "          foreach (var name in names)\n",
    "          {\n",
    "\t\t\t  Console.WriteLine(name);\n",
    "\t\t\t  \t\t  \n",
    "          }\n",
    "\t\tConsole.WriteLine();\n",
    "\t\tConsole.WriteLine(names.Min);\n",
    "\t\tConsole.WriteLine(names.Max);\n",
    "\t}\n",
    "}\n"
   ]
  },
  {
   "cell_type": "markdown",
   "id": "28482128",
   "metadata": {},
   "source": [
    "Question 3: Triangle Area"
   ]
  },
  {
   "cell_type": "code",
   "execution_count": null,
   "id": "3a83f512",
   "metadata": {},
   "outputs": [],
   "source": [
    "using System;\n",
    "\t\t\t\t\t\n",
    "public class Program\n",
    "{\n",
    "\tpublic void triangleArea(int a,int b,int c)\n",
    "\t{\n",
    "\t\tConsole.WriteLine(\"The length of each side of the triangle is by 2\");\n",
    "\t\tint s=(a+b+c)/2;\n",
    "\t\tConsole.WriteLine(\"The semi-perimeter of the triangle is :\"+s);\n",
    "\t\tdouble area=Math.Sqrt(s*(s-a)*(s-b)*(s-c));\n",
    "\t\tConsole.WriteLine(\"Area of the triangle is :\"+area);\n",
    "\t}\n",
    "\tpublic void main()\n",
    "\t{\n",
    "\t\tProgram pr=new Program();\n",
    "\t\tpr.triangleArea(2,2,2);\n",
    "\t}\n",
    "}\n"
   ]
  },
  {
   "cell_type": "code",
   "execution_count": null,
   "id": "ab6bba32",
   "metadata": {},
   "outputs": [],
   "source": [
    "//without triangleArea function\n",
    "\n",
    "using System;\n",
    "//using System.Collections.Generic;\n",
    "\t\t\t\t\t\n",
    "public class Program\n",
    "{\n",
    "\tpublic static void Main()\n",
    "\t{\n",
    "\t\tint a=2,b=2,c=2;\n",
    "\t\tConsole.WriteLine(\"The length of each side of the triangle is by 2\");\n",
    "\t\tint s=(a+b+c)/2;\n",
    "\t\tConsole.WriteLine(\"The semi-perimeter of the triangle is :\"+s);\n",
    "\t\tdouble area=Math.Sqrt(s*(s-a)*(s-b)*(s-c));\n",
    "\t\tConsole.WriteLine(\"Area of the triangle is :\"+area);\n",
    "\t}\n",
    "}"
   ]
  },
  {
   "cell_type": "markdown",
   "id": "3b6aa972",
   "metadata": {},
   "source": [
    "Question 4: Odd and Even numbers in separate arrays"
   ]
  },
  {
   "cell_type": "code",
   "execution_count": null,
   "id": "3c15810d",
   "metadata": {},
   "outputs": [],
   "source": [
    "using System;\n",
    "\t\t\t\t\t\n",
    "public class Program\n",
    "{\n",
    "\tpublic static void Main()\n",
    "\t{\n",
    "\t\tint[] arr = new int[5];        \n",
    "        arr[0] = 25;\n",
    "        arr[1] = 47;\n",
    "        arr[2] = 42;\n",
    "        arr[3] = 56;\n",
    "        arr[4] = 32;\n",
    "\t\t\n",
    "         int[] arr2 = new int[5];\n",
    "         int[] arr3 = new int[5];\n",
    "         int i, j = 0, k = 0;\n",
    "         for (i = 0; i < 5; i++) {\n",
    "            if (arr[i] % 2 == 0) {\n",
    "               arr2[j] = arr[i];\n",
    "               j++;\n",
    "            } else {\n",
    "               arr3[k] = arr[i];\n",
    "               k++;\n",
    "            }\n",
    "         }\n",
    "         Console.WriteLine(\"Even numbers...\");\n",
    "         for (i = 0; i < j; i++) {\n",
    "            Console.WriteLine(arr2[i]);\n",
    "         }\n",
    "         Console.WriteLine(\"Odd numbers...\");\n",
    "         for (i = 0; i < k; i++) {\n",
    "            Console.WriteLine(arr3[i]);\n",
    "         }\n",
    "\t}\n",
    "}"
   ]
  },
  {
   "cell_type": "markdown",
   "id": "4512640a",
   "metadata": {},
   "source": [
    "Question 5.a : Rectangle"
   ]
  },
  {
   "cell_type": "code",
   "execution_count": null,
   "id": "db1ca4ed",
   "metadata": {},
   "outputs": [],
   "source": [
    "using System;\n",
    "\t\t\t\t\t\n",
    "public class Program\n",
    "{\n",
    "\tpublic bool inside(int x,int y,int x1,int y1,int x2, int y2)  \n",
    "        {  \n",
    "\t\tif (x > x1 && x < x2 && y > y1 && y < y2)\n",
    "\t\t\treturn true;\n",
    "\t\t\treturn false;  \n",
    "         }  \n",
    "          \n",
    "         public static void Main(string[] args)  \n",
    "         {  \n",
    "            Program pr = new Program();   \n",
    "\t\t\tpr.inside(1,1,0.3,0.5,1.1,0.7); \n",
    "          \n",
    "            Console.WriteLine(\"true\");\n",
    "\t\t\tConsole.WriteLine(\"false\");  \n",
    "\t\t }\n",
    "\n",
    "}"
   ]
  },
  {
   "cell_type": "markdown",
   "id": "877c1d0a",
   "metadata": {},
   "source": [
    "Question 5.b"
   ]
  },
  {
   "cell_type": "code",
   "execution_count": null,
   "id": "de648046",
   "metadata": {},
   "outputs": [],
   "source": [
    "public class Program\n",
    "{\n",
    "\tpublic bool inside(int x,int y,double x1,double y1,double x2, double y2)  \n",
    "        {  \n",
    "\t\tif (x > x1 && x < x2 && y > y1 && y < y2)\n",
    "\t\t\treturn true;\n",
    "\t\t\treturn false;  \n",
    "         }  \n",
    "          \n",
    "         public static void Main(string[] args)  \n",
    "         {  \n",
    "            Program pr = new Program();\n",
    "\t\t\tProgram pr1 = new Program();\n",
    "\t\t\tpr.inside(1,1,0.3,0.5,1.1,0.7); \n",
    "\t\t\tpr.inside(1,1,0.5,0.2,1.1,2); \n",
    "          \n",
    "            //Console.WriteLine(\"true\");\n",
    "\t\t\t//Console.WriteLine(\"false\");  \n",
    "\t\t }\n",
    "\n",
    "}"
   ]
  },
  {
   "cell_type": "markdown",
   "id": "bd3536db",
   "metadata": {},
   "source": [
    "Question 6: word into pig-Latin "
   ]
  },
  {
   "cell_type": "code",
   "execution_count": 40,
   "id": "474ccfa6",
   "metadata": {},
   "outputs": [
    {
     "name": "stdout",
     "output_type": "stream",
     "text": [
      "Enter a Sentence: agnes mathew\n",
      "Pig Latin:  agnesway athewmay\n"
     ]
    }
   ],
   "source": [
    "sentence = input('Enter a Sentence: ').lower()\n",
    "words = sentence.split()\n",
    "\n",
    "for i, word in enumerate(words):\n",
    "    if word[0] in ['a','e','i','o','u']:\n",
    "        words[i] = words[i]+ \"way\"\n",
    "    else:\n",
    "        #has_vowel = False\n",
    "        \n",
    "        for j, letter in enumerate(word):\n",
    "            if letter in 'aeiou':\n",
    "                words[i] = word[j:] + word[:j] + \"ay\"\n",
    "                has_vowel = True\n",
    "                break\n",
    "        if(has_vowel == False):\n",
    "            words[i] = words[i]+ \"ay\"\n",
    "\n",
    "pig_latin = ' '.join(words)\n",
    "print(\"Pig Latin: \",pig_latin)"
   ]
  },
  {
   "cell_type": "markdown",
   "id": "c772329f",
   "metadata": {},
   "source": [
    "Question 7: Number of blood-types of patients"
   ]
  },
  {
   "cell_type": "code",
   "execution_count": 95,
   "id": "7c4bdee7",
   "metadata": {},
   "outputs": [
    {
     "name": "stdout",
     "output_type": "stream",
     "text": [
      "['AB', 'AB', 'B', 'O', 'A', 'A', 'AB', 'O', 'AB', 'A', 'O', 'O', 'A', 'A', 'A', 'O', 'O', 'O', 'AB', 'O', 'A', 'A', 'A', 'A', 'A', 'AB', 'AB', 'A', 'AB', 'O', 'AB', 'O', 'A', 'O', 'O', 'O', 'AB', 'O', 'AB', 'AB', 'AB', 'A', 'A', 'O']\n",
      "the number of patients of blood type AB : 13\n",
      "the number of patients of blood type A : 15\n",
      "the number of patients of blood type B : 1\n",
      "the number of patients of blood type O : 15\n"
     ]
    }
   ],
   "source": [
    "with open(\"bloodtype1.txt\",'r') as data_file:\n",
    "    for line in data_file:\n",
    "        data = line.split()\n",
    "        print(data)  \n",
    "    count_data= data.count('AB')\n",
    "    count_data1= data.count('A')\n",
    "    count_data2= data.count('B')\n",
    "    count_data3= data.count('O')\n",
    "    \n",
    "print(\"the number of patients of blood type AB :\",count_data)\n",
    "print(\"the number of patients of blood type A :\",count_data1)\n",
    "print(\"the number of patients of blood type B :\",count_data2)\n",
    "print(\"the number of patients of blood type O :\",count_data3)\n"
   ]
  },
  {
   "cell_type": "code",
   "execution_count": 123,
   "id": "6cfe0bac",
   "metadata": {},
   "outputs": [
    {
     "name": "stdout",
     "output_type": "stream",
     "text": [
      "the number of patients of blood type AB : 13\n",
      "the number of patients of blood type A : 15\n",
      "the number of patients of blood type B : 1\n",
      "the number of patients of blood type O : 15\n"
     ]
    }
   ],
   "source": [
    "def bldCount(bloodtype):\n",
    "    with open(\"bloodtype1.txt\",'r') as data_file:\n",
    "        for line in data_file:\n",
    "            data = line.split()\n",
    "            print(data)  \n",
    "        count_data= data.count('AB')\n",
    "        count_data1= data.count('A')\n",
    "        count_data2= data.count('B')\n",
    "        count_data3= data.count('O')\n",
    "    \n",
    "print(\"the number of patients of blood type AB :\",count_data)\n",
    "print(\"the number of patients of blood type A :\",count_data1)\n",
    "print(\"the number of patients of blood type B :\",count_data2)\n",
    "print(\"the number of patients of blood type O :\",count_data3)\n"
   ]
  },
  {
   "cell_type": "markdown",
   "id": "61175822",
   "metadata": {},
   "source": [
    "Question 8: Currency convertion"
   ]
  },
  {
   "cell_type": "code",
   "execution_count": 174,
   "id": "7bca3105",
   "metadata": {},
   "outputs": [
    {
     "name": "stdout",
     "output_type": "stream",
     "text": [
      "enter the currency and amount to be converted: inr 2\n",
      "currency: inr\n",
      "amount: 2\n"
     ]
    }
   ],
   "source": [
    "cur,amt=input(\"enter the currency and amount to be converted: \").split()\n",
    "print(\"currency:\",cur)\n",
    "print(\"amount:\",amt)\n",
    "currency={\n",
    "    'AUD':1.0345157,\n",
    "    'CHF':1.0237414,\n",
    "    'CNY':0.1550176,\n",
    "    'DKK':0.1651442,\n",
    "    'EUR':1.2296544,\n",
    "    'GBP':1.5550989,\n",
    "    'HKD':0.1270207,\n",
    "    'INR':0.0177643,\n",
    "    'JPY':0.01241401,\n",
    "    'MXN':0.0751848,\n",
    "    'MYR':0.3145411,\n",
    "    'NOK':0.1677063,\n",
    "    'NZD':0.8003591,\n",
    "    'PHP':0.0233234,\n",
    "    'SEK':0.148269,\n",
    "    'SGD':0.788871,\n",
    "    'THB':0.0313789\n",
    "}\n",
    "file = open(\"currencies.txt\",\"w\")\n",
    "for key, value in currency.items(): \n",
    "     file.write('%s:%s\\n' % (key, value))\n",
    "file.close()\n",
    "def curconv(cur,amt):\n",
    "    with open(\"currencies.txt\",'r') as data_file:\n",
    "        for i,line in data_file:\n",
    "            data = line.split(':')\n",
    "            print(data)\n",
    "            if data[0]=='key':\n",
    "                amt=amt*1.5\n",
    "                print(amt)\n",
    "\n",
    "#def curcon(cur,amt):\n",
    "   # for cur in currency:\n",
    "       # amt=amt*currency.values()\n",
    "       # print(amt)\n"
   ]
  },
  {
   "cell_type": "markdown",
   "id": "f5e3b2cf",
   "metadata": {},
   "source": [
    "Question 9:Exception Identification"
   ]
  },
  {
   "cell_type": "code",
   "execution_count": 195,
   "id": "62771145",
   "metadata": {},
   "outputs": [
    {
     "name": "stdout",
     "output_type": "stream",
     "text": [
      "can only concatenate str (not \"int\") to str\n",
      "'NoneType' object is not subscriptable\n",
      "math domain error\n",
      "name 'x' is not defined\n",
      "[Errno 2] No such file or directory: 'math.txt'\n"
     ]
    }
   ],
   "source": [
    "try:\n",
    "    name = 'a'\n",
    "    name += 6\n",
    "except (NameError, TypeError,IOError,ValueError) as error:\n",
    "    print(error)\n",
    "try:\n",
    "    lst[1,2,3,4,5,6,7,8,9,10]\n",
    "    print(lst[12])\n",
    "except (NameError, TypeError,IOError,ValueError) as error:\n",
    "    print(error)\n",
    "try:\n",
    "    import math\n",
    "    math.sqrt(-1.0)\n",
    "except (NameError, TypeError,IOError,ValueError) as error:\n",
    "    print(error)\n",
    "try:\n",
    "    print(x)\n",
    "except (NameError, TypeError,IOError,ValueError) as error:\n",
    "    print(error)\n",
    "try:\n",
    "    infile = open('math.txt')\n",
    "except (NameError, TypeError,IOError,ValueError) as error:\n",
    "    print(error)   "
   ]
  },
  {
   "cell_type": "markdown",
   "id": "10c3dfd4",
   "metadata": {},
   "source": [
    "Question 10: Frequency"
   ]
  },
  {
   "cell_type": "code",
   "execution_count": 198,
   "id": "b7713b08",
   "metadata": {},
   "outputs": [],
   "source": [
    "def frequencie(itemList):\n",
    "    'returns frequency of items in itemList'\n",
    "    itemList=\"Apple is tasty\"\n",
    "    counters = {}\n",
    "    for item in itemList:\n",
    "        if item in counters: # increment item counter\n",
    "            counters[item] += 1\n",
    "        else: # create item counter\n",
    "            counters[item] = 1\n",
    "    print (\"The count of each character is:\"+str(counters))"
   ]
  },
  {
   "cell_type": "code",
   "execution_count": null,
   "id": "c03f8d9b",
   "metadata": {},
   "outputs": [],
   "source": []
  }
 ],
 "metadata": {
  "kernelspec": {
   "display_name": "Python 3 (ipykernel)",
   "language": "python",
   "name": "python3"
  },
  "language_info": {
   "codemirror_mode": {
    "name": "ipython",
    "version": 3
   },
   "file_extension": ".py",
   "mimetype": "text/x-python",
   "name": "python",
   "nbconvert_exporter": "python",
   "pygments_lexer": "ipython3",
   "version": "3.9.12"
  }
 },
 "nbformat": 4,
 "nbformat_minor": 5
}
